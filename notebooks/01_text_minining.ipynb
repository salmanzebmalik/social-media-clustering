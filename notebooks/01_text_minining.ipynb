{
 "cells": [
  {
   "cell_type": "code",
   "execution_count": 21,
   "metadata": {},
   "outputs": [
    {
     "name": "stderr",
     "output_type": "stream",
     "text": [
      "[nltk_data] Downloading package wordnet to\n",
      "[nltk_data]     /Users/muhammadsalmanmalik/nltk_data...\n"
     ]
    },
    {
     "data": {
      "text/plain": [
       "True"
      ]
     },
     "execution_count": 21,
     "metadata": {},
     "output_type": "execute_result"
    }
   ],
   "source": [
    "import nltk\n",
    "# nltk.download('stopwords')\n",
    "# nltk.download('punkt_tab')\n",
    "nltk.download('wordnet')"
   ]
  },
  {
   "cell_type": "markdown",
   "metadata": {},
   "source": [
    "1. Lowercasing\n",
    "Purpose: Ensures uniformity in text by converting all characters to lowercase."
   ]
  },
  {
   "cell_type": "code",
   "execution_count": 12,
   "metadata": {},
   "outputs": [
    {
     "name": "stdout",
     "output_type": "stream",
     "text": [
      "this is an example.\n"
     ]
    }
   ],
   "source": [
    "text = \"This is an Example.\"\n",
    "lower_text = text.lower()\n",
    "print(lower_text)  # Output: \"this is an example.\"\n"
   ]
  },
  {
   "cell_type": "markdown",
   "metadata": {},
   "source": [
    "2. Removing Punctuation\n",
    "Purpose: Eliminates punctuation marks, as they often don’t carry meaning in text analysis."
   ]
  },
  {
   "cell_type": "code",
   "execution_count": 2,
   "metadata": {},
   "outputs": [
    {
     "name": "stdout",
     "output_type": "stream",
     "text": [
      "Hello world Lets preprocess text\n"
     ]
    }
   ],
   "source": [
    "import string\n",
    "text = \"Hello, world! Let's preprocess text.\"\n",
    "no_punct = text.translate(str.maketrans('', '', string.punctuation))\n",
    "print(no_punct)  # Output: \"Hello world Lets preprocess text\"\n"
   ]
  },
  {
   "cell_type": "markdown",
   "metadata": {},
   "source": [
    "3. Removing Numbers\n",
    "Purpose: Removes numbers when they aren’t relevant to the analysis."
   ]
  },
  {
   "cell_type": "code",
   "execution_count": 3,
   "metadata": {},
   "outputs": [
    {
     "name": "stdout",
     "output_type": "stream",
     "text": [
      "There are  apples.\n"
     ]
    }
   ],
   "source": [
    "import re\n",
    "text = \"There are 123 apples.\"\n",
    "no_numbers = re.sub(r'\\d+', '', text)\n",
    "print(no_numbers)  # Output: \"There are  apples.\"\n"
   ]
  },
  {
   "cell_type": "markdown",
   "metadata": {},
   "source": [
    "4. Tokenization\n",
    "Purpose: Splits text into individual tokens (words or sentences)."
   ]
  },
  {
   "cell_type": "code",
   "execution_count": 16,
   "metadata": {},
   "outputs": [
    {
     "name": "stdout",
     "output_type": "stream",
     "text": [
      "['Tokenize', 'this', 'sentence', '.']\n"
     ]
    }
   ],
   "source": [
    "from nltk.tokenize import word_tokenize\n",
    "text = \"Tokenize this sentence.\"\n",
    "tokens = word_tokenize(text)\n",
    "print(tokens)  # Output: ['Tokenize', 'this', 'sentence', '.']\n"
   ]
  },
  {
   "cell_type": "markdown",
   "metadata": {},
   "source": [
    "5. Stopword Removal\n",
    "Purpose: Eliminates common words like \"the,\" \"and,\" etc."
   ]
  },
  {
   "cell_type": "code",
   "execution_count": 18,
   "metadata": {},
   "outputs": [
    {
     "name": "stdout",
     "output_type": "stream",
     "text": [
      "['example', 'stopword', 'removal.']\n"
     ]
    }
   ],
   "source": [
    "from nltk.corpus import stopwords\n",
    "stop_words = set(stopwords.words('english'))\n",
    "text = \"This is an example of stopword removal.\"\n",
    "filtered_words = [word for word in text.split() if word.lower() not in stop_words]\n",
    "print(filtered_words)  # Output: ['example', 'stopword', 'removal']\n"
   ]
  },
  {
   "cell_type": "markdown",
   "metadata": {},
   "source": [
    "6. Stemming\n",
    "Purpose: Reduces words to their stems by chopping off suffixes."
   ]
  },
  {
   "cell_type": "code",
   "execution_count": 19,
   "metadata": {},
   "outputs": [
    {
     "name": "stdout",
     "output_type": "stream",
     "text": [
      "run\n"
     ]
    }
   ],
   "source": [
    "from nltk.stem import PorterStemmer\n",
    "stemmer = PorterStemmer()\n",
    "word = \"running\"\n",
    "stemmed_word = stemmer.stem(word)\n",
    "print(stemmed_word)  # Output: \"run\"\n"
   ]
  },
  {
   "cell_type": "markdown",
   "metadata": {},
   "source": [
    "7. Lemmatization\n",
    "Purpose: Converts words to their dictionary forms (more linguistically correct than stemming)."
   ]
  },
  {
   "cell_type": "code",
   "execution_count": 22,
   "metadata": {},
   "outputs": [
    {
     "name": "stdout",
     "output_type": "stream",
     "text": [
      "run\n"
     ]
    }
   ],
   "source": [
    "from nltk.stem import WordNetLemmatizer\n",
    "lemmatizer = WordNetLemmatizer()\n",
    "word = \"running\"\n",
    "lemma = lemmatizer.lemmatize(word, pos='v')\n",
    "print(lemma)  # Output: \"run\"\n"
   ]
  },
  {
   "cell_type": "markdown",
   "metadata": {},
   "source": [
    "8. Removing Whitespace\n",
    "Purpose: Strips excessive spaces or newline characters."
   ]
  },
  {
   "cell_type": "code",
   "execution_count": 23,
   "metadata": {},
   "outputs": [
    {
     "name": "stdout",
     "output_type": "stream",
     "text": [
      "Excessive whitespace.\n"
     ]
    }
   ],
   "source": [
    "text = \"  Excessive   whitespace. \\n\"\n",
    "clean_text = \" \".join(text.split())\n",
    "print(clean_text)  # Output: \"Excessive whitespace.\"\n"
   ]
  },
  {
   "cell_type": "markdown",
   "metadata": {},
   "source": [
    "9. Removing URLs\n",
    "Purpose: Deletes hyperlinks from text."
   ]
  },
  {
   "cell_type": "code",
   "execution_count": 24,
   "metadata": {},
   "outputs": [
    {
     "name": "stdout",
     "output_type": "stream",
     "text": [
      "Visit  for details.\n"
     ]
    }
   ],
   "source": [
    "import re\n",
    "text = \"Visit https://example.com for details.\"\n",
    "no_urls = re.sub(r'http\\S+', '', text)\n",
    "print(no_urls)  # Output: \"Visit for details.\"\n"
   ]
  },
  {
   "cell_type": "markdown",
   "metadata": {},
   "source": [
    "10. Removing Special Characters\n",
    "Purpose: Cleans non-alphanumeric characters."
   ]
  },
  {
   "cell_type": "code",
   "execution_count": 11,
   "metadata": {},
   "outputs": [
    {
     "name": "stdout",
     "output_type": "stream",
     "text": [
      "Text processing is important\n"
     ]
    }
   ],
   "source": [
    "import re\n",
    "text = \"Text #processing is @important!\"\n",
    "clean_text = re.sub(r'[^A-Za-z0-9\\s]', '', text)\n",
    "print(clean_text)  # Output: \"Text processing is important\"\n"
   ]
  },
  {
   "cell_type": "markdown",
   "metadata": {},
   "source": [
    "11. Spelling Correction\n",
    "Purpose: Corrects misspelled words."
   ]
  },
  {
   "cell_type": "code",
   "execution_count": 29,
   "metadata": {},
   "outputs": [
    {
     "name": "stdout",
     "output_type": "stream",
     "text": [
      "Spelling errors are common.\n"
     ]
    }
   ],
   "source": [
    "from textblob import TextBlob\n",
    "text = \"Spelling errurs are common.\"\n",
    "corrected_text = str(TextBlob(text).correct())\n",
    "print(corrected_text)  # Output: \"Spelling errors are common.\"\n"
   ]
  },
  {
   "cell_type": "markdown",
   "metadata": {},
   "source": [
    "12. Word Normalization\n",
    "Purpose: Maps variations of words to a standard form."
   ]
  },
  {
   "cell_type": "code",
   "execution_count": 30,
   "metadata": {},
   "outputs": [
    {
     "name": "stdout",
     "output_type": "stream",
     "text": [
      "['be', 'be', 'be']\n"
     ]
    }
   ],
   "source": [
    "from nltk.stem import WordNetLemmatizer\n",
    "lemmatizer = WordNetLemmatizer()\n",
    "text = [\"is\", \"are\", \"am\"]\n",
    "normalized = [lemmatizer.lemmatize(word, pos='v') for word in text]\n",
    "print(normalized)  # Output: ['be', 'be', 'be']\n"
   ]
  },
  {
   "cell_type": "markdown",
   "metadata": {},
   "source": [
    "13. Vectorization\n",
    "Purpose: Converts text into numerical representations for machine learning models."
   ]
  },
  {
   "cell_type": "code",
   "execution_count": null,
   "metadata": {},
   "outputs": [],
   "source": [
    "from sklearn.feature_extraction.text import CountVectorizer\n",
    "texts = [\"This is a sample.\", \"Text preprocessing is important.\"]\n",
    "vectorizer = CountVectorizer()\n",
    "X = vectorizer.fit_transform(texts)\n",
    "print(X.toarray())  # Output: Word count matrix\n"
   ]
  },
  {
   "cell_type": "code",
   "execution_count": null,
   "metadata": {},
   "outputs": [],
   "source": [
    "from sklearn.feature_extraction.text import TfidfVectorizer\n",
    "texts = [\"This is a sample.\", \"Text preprocessing is important.\"]\n",
    "vectorizer = TfidfVectorizer()\n",
    "X = vectorizer.fit_transform(texts)\n",
    "print(X.toarray())  # Output: TF-IDF matrix\n"
   ]
  }
 ],
 "metadata": {
  "kernelspec": {
   "display_name": "ul_project",
   "language": "python",
   "name": "python3"
  },
  "language_info": {
   "codemirror_mode": {
    "name": "ipython",
    "version": 3
   },
   "file_extension": ".py",
   "mimetype": "text/x-python",
   "name": "python",
   "nbconvert_exporter": "python",
   "pygments_lexer": "ipython3",
   "version": "3.10.13"
  }
 },
 "nbformat": 4,
 "nbformat_minor": 2
}
