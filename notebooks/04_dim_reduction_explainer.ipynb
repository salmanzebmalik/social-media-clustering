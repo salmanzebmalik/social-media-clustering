{
 "cells": [
  {
   "cell_type": "markdown",
   "id": "f8a7577c",
   "metadata": {},
   "source": [
    "# 04 – Dimensionality Reduction Explainer (PCA / t-SNE / UMAP)\n",
    "Demonstrates multiple projections of the same feature matrix and basic visual comparison."
   ]
  },
  {
   "cell_type": "code",
   "execution_count": null,
   "id": "58d3755c",
   "metadata": {},
   "outputs": [],
   "source": [
    "import numpy as np\n",
    "from smclust.data_loader import load_messages\n",
    "from smclust.preprocessing import preprocess_df\n",
    "from smclust.vectorize import tfidf_features\n",
    "from smclust.reduce import pca_reduce, tsne_embed, umap_embed\n",
    "from smclust.cluster import kmeans_cluster\n",
    "from smclust.viz import scatter_2d"
   ]
  },
  {
   "cell_type": "code",
   "execution_count": null,
   "id": "492a25b3",
   "metadata": {},
   "outputs": [],
   "source": [
    "# Build a TF-IDF baseline for visual projections\n",
    "df = load_messages()\n",
    "df = preprocess_df(df)\n",
    "X_sparse, _ = tfidf_features(df[\"text_clean\"], max_features=3000)\n",
    "X = X_sparse.toarray()"
   ]
  },
  {
   "cell_type": "code",
   "execution_count": null,
   "id": "a26657c0",
   "metadata": {},
   "outputs": [],
   "source": [
    "Xp, pca = pca_reduce(X, n_components=50, random_state=42)\n",
    "labels, _ = kmeans_cluster(Xp, n_clusters=8, random_state=42)\n",
    "\n",
    "# PCA 2D (using the first two PCs of the reduced space)\n",
    "pca2d = Xp[:, :2]\n",
    "scatter_2d(pca2d, labels, title=\"PCA (first two components)\")\n",
    "\n",
    "# t-SNE\n",
    "tsne2d = tsne_embed(Xp, n_components=2, perplexity=30, random_state=42)\n",
    "scatter_2d(tsne2d, labels, title=\"t-SNE (perplexity=30)\")\n",
    "\n",
    "# UMAP\n",
    "umap2d = umap_embed(Xp, n_neighbors=15, min_dist=0.1, n_components=2, random_state=42)\n",
    "scatter_2d(umap2d, labels, title=\"UMAP (n_neighbors=15, min_dist=0.1)\")"
   ]
  }
 ],
 "metadata": {
  "jupytext": {
   "cell_metadata_filter": "-all",
   "main_language": "python",
   "notebook_metadata_filter": "-all"
  }
 },
 "nbformat": 4,
 "nbformat_minor": 5
}
