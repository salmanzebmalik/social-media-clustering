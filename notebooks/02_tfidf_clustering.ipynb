{
 "cells": [
  {
   "cell_type": "markdown",
   "id": "d827a4a1",
   "metadata": {},
   "source": [
    "# 02 – TF-IDF + Clustering\n",
    "Vectorizes cleaned text with TF-IDF, reduces with PCA, clusters (KMeans/DBSCAN),\n",
    "and prints evaluation metrics."
   ]
  },
  {
   "cell_type": "code",
   "execution_count": 3,
   "id": "b46f0c42",
   "metadata": {},
   "outputs": [
    {
     "name": "stdout",
     "output_type": "stream",
     "text": [
      "Project root: /Users/muhammadsalmanmalik/Library/CloudStorage/OneDrive-UniversitätMünster/ml_projects/social-media-clustering\n",
      "In sys.path: /Users/muhammadsalmanmalik/Library/CloudStorage/OneDrive-UniversitätMünster/ml_projects/social-media-clustering/src\n"
     ]
    }
   ],
   "source": [
    "# Ensure we can import from project/src no matter where the notebook is opened\n",
    "import sys, os\n",
    "from pathlib import Path\n",
    "\n",
    "# climb up until we find the project root (folder that contains \"src/smclust\")\n",
    "ROOT = Path.cwd()\n",
    "while ROOT != ROOT.parent and not (ROOT / \"src\" / \"smclust\").exists():\n",
    "    ROOT = ROOT.parent\n",
    "\n",
    "sys.path.insert(0, str(ROOT / \"src\"))\n",
    "print(\"Project root:\", ROOT)\n",
    "print(\"In sys.path:\", ROOT / \"src\")\n",
    "\n",
    "# optional: auto-reload modules so edits in src/ show up without restarting kernel\n",
    "%load_ext autoreload\n",
    "%autoreload 2\n"
   ]
  },
  {
   "cell_type": "code",
   "execution_count": 4,
   "id": "56f64a17",
   "metadata": {},
   "outputs": [],
   "source": [
    "import numpy as np\n",
    "from smclust.data_loader import load_messages\n",
    "from smclust.preprocessing import preprocess_df\n",
    "from smclust.vectorize import tfidf_features\n",
    "from smclust.reduce import pca_reduce\n",
    "from smclust.cluster import kmeans_cluster, dbscan_cluster\n",
    "from smclust.metrics import silhouette, davies_bouldin, dunn_index"
   ]
  },
  {
   "cell_type": "code",
   "execution_count": 5,
   "id": "7a028489",
   "metadata": {},
   "outputs": [
    {
     "ename": "",
     "evalue": "",
     "output_type": "error",
     "traceback": [
      "\u001b[1;31mThe Kernel crashed while executing code in the current cell or a previous cell. \n",
      "\u001b[1;31mPlease review the code in the cell(s) to identify a possible cause of the failure. \n",
      "\u001b[1;31mClick <a href='https://aka.ms/vscodeJupyterKernelCrash'>here</a> for more info. \n",
      "\u001b[1;31mView Jupyter <a href='command:jupyter.viewOutput'>log</a> for further details."
     ]
    }
   ],
   "source": [
    "df = load_messages()\n",
    "df = preprocess_df(df)\n",
    "X_sparse, vec = tfidf_features(df[\"text_clean\"], max_features=5000, ngram_range=(1,2))\n",
    "X = X_sparse.toarray()\n",
    "\n",
    "Xp, pca = pca_reduce(X, n_components=50, random_state=42)\n",
    "\n",
    "labels_km, _ = kmeans_cluster(Xp, n_clusters=8, random_state=42)\n",
    "labels_db, _ = dbscan_cluster(Xp, eps=0.7, min_samples=5)\n",
    "\n",
    "print(\"KMeans  -> sil:\", silhouette(Xp, labels_km),\n",
    "      \" db:\", davies_bouldin(Xp, labels_km),\n",
    "      \" dunn:\", dunn_index(Xp, labels_km))\n",
    "\n",
    "print(\"DBSCAN  -> sil:\", silhouette(Xp, labels_db),\n",
    "      \" db:\", davies_bouldin(Xp, labels_db),\n",
    "      \" dunn:\", dunn_index(Xp, labels_db))"
   ]
  }
 ],
 "metadata": {
  "jupytext": {
   "cell_metadata_filter": "-all",
   "main_language": "python",
   "notebook_metadata_filter": "-all"
  },
  "kernelspec": {
   "display_name": "smclust",
   "language": "python",
   "name": "python3"
  },
  "language_info": {
   "codemirror_mode": {
    "name": "ipython",
    "version": 3
   },
   "file_extension": ".py",
   "mimetype": "text/x-python",
   "name": "python",
   "nbconvert_exporter": "python",
   "pygments_lexer": "ipython3",
   "version": "3.11.13"
  }
 },
 "nbformat": 4,
 "nbformat_minor": 5
}
